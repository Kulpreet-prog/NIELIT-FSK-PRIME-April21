{
  "nbformat": 4,
  "nbformat_minor": 0,
  "metadata": {
    "colab": {
      "provenance": []
    },
    "kernelspec": {
      "name": "python3",
      "display_name": "Python 3"
    },
    "language_info": {
      "name": "python"
    }
  },
  "cells": [
    {
      "cell_type": "markdown",
      "source": [
        "# Task 1: Python Proficiency Check – AI Bootcamp Prep"
      ],
      "metadata": {
        "id": "L982FdumDCVn"
      }
    },
    {
      "cell_type": "markdown",
      "source": [
        "## Section 1: Basics & Control Flow"
      ],
      "metadata": {
        "id": "gk9AwRFXDO6n"
      }
    },
    {
      "cell_type": "markdown",
      "source": [
        "### **Task 1**: FizzBuzz with a Twist\n",
        "\n",
        "*Instruction*: Write a function that prints numbers from 1 to 50. For multiples of 3, print \"AI\", for multiples of 5 print \"Bootcamp\", and for multiples of both 3 and 5 print \"AI Bootcamp\"."
      ],
      "metadata": {
        "id": "tG2LLFb4DSrf"
      }
    },
    {
      "cell_type": "code",
      "source": [
        "def fizzbuzz_ai_bootcamp():\n",
        "  for i in range(1, 51):\n",
        "    if i % 3 == 0 and i % 5 == 0:\n",
        "      print(\"AI Bootcamp\")\n",
        "    elif i % 3 == 0:\n",
        "      print(\"AI\")\n",
        "    elif i % 5 == 0:\n",
        "      print(\"Bootcamp\")\n",
        "\n",
        "\n",
        "\n",
        "\n",
        "\n",
        "fizzbuzz_ai_bootcamp()"
      ],
      "metadata": {
        "id": "G6YtbgenDSWH",
        "colab": {
          "base_uri": "https://localhost:8080/"
        },
        "outputId": "18f0fd7d-828b-4d30-9c9a-361bc7dfba27"
      },
      "execution_count": 3,
      "outputs": [
        {
          "output_type": "stream",
          "name": "stdout",
          "text": [
            "AI\n",
            "Bootcamp\n",
            "AI\n",
            "AI\n",
            "Bootcamp\n",
            "AI\n",
            "AI Bootcamp\n",
            "AI\n",
            "Bootcamp\n",
            "AI\n",
            "AI\n",
            "Bootcamp\n",
            "AI\n",
            "AI Bootcamp\n",
            "AI\n",
            "Bootcamp\n",
            "AI\n",
            "AI\n",
            "Bootcamp\n",
            "AI\n",
            "AI Bootcamp\n",
            "AI\n",
            "Bootcamp\n"
          ]
        }
      ]
    },
    {
      "cell_type": "markdown",
      "source": [
        "### **Task 2**: List Comprehensions and Functions\n",
        "\n",
        "*Instruction*: Given a list of numbers, square only the even numbers using a list comprehension and define a function that returns the result."
      ],
      "metadata": {
        "id": "8YMADBQmDhHU"
      }
    },
    {
      "cell_type": "code",
      "execution_count": 4,
      "metadata": {
        "colab": {
          "base_uri": "https://localhost:8080/"
        },
        "id": "sPfpD1yF4LTO",
        "outputId": "2e65580b-5f1e-4976-a5e0-0fc075e8ce05"
      },
      "outputs": [
        {
          "output_type": "stream",
          "name": "stdout",
          "text": [
            "[4, 16, 36]\n"
          ]
        }
      ],
      "source": [
        "def square_evens(numbers):\n",
        "     return [x**2 for x in numbers if x % 2 == 0]\n",
        "     my_list = [1, 2, 3, 4, 5, 6]\n",
        "     result = square_evens(my_list)\n",
        "     print(result)\n",
        "\n",
        "\n",
        "print(square_evens([1, 2, 3, 4, 5, 6]))"
      ]
    },
    {
      "cell_type": "markdown",
      "source": [
        "## Section 2: Data Structures & File I/O"
      ],
      "metadata": {
        "id": "03CKwCBtDzRL"
      }
    },
    {
      "cell_type": "markdown",
      "source": [
        " **Task 3**: Word Frequency from a File\n",
        "\n",
        "*Instruction*: Read the provided text file (Sample_For_Task1.txt) and return the 5 most common words (ignoring punctuation and case)."
      ],
      "metadata": {
        "id": "oh1W_9m5DuzF"
      }
    },
    {
      "cell_type": "markdown",
      "source": [],
      "metadata": {
        "id": "G_U4XxN0u5OD"
      }
    },
    {
      "cell_type": "code",
      "source": [
        "def top_5_words_from_text(text):\n",
        "    text = text.lower()\n",
        "    text = text.translate(str.maketrans('', '', string.punctuation))\n",
        "    words = text.split()\n",
        "    word_counts = Counter(words)\n",
        "    return word_counts.most_common(5)\n",
        "\n",
        "# Direct text input\n",
        "text = \"\"\"The quick brown fox jumps over the lazy dog. The dog was not amused.\n",
        "Meanwhile, the fox ran into the forest. Dogs and foxes rarely get along.\n",
        "Foxes are quick, clever, and often misunderstood.\"\"\"\n",
        "\n",
        "print(top_5_words_from_text(text))\n",
        "\n",
        "\n"
      ],
      "metadata": {
        "id": "SQTsWR6GDn6e",
        "colab": {
          "base_uri": "https://localhost:8080/"
        },
        "outputId": "94e88e8c-3d3c-49f5-815d-e7c4e9a99aba"
      },
      "execution_count": 15,
      "outputs": [
        {
          "output_type": "stream",
          "name": "stdout",
          "text": [
            "[('the', 5), ('quick', 2), ('fox', 2), ('dog', 2), ('and', 2)]\n"
          ]
        }
      ]
    },
    {
      "cell_type": "markdown",
      "source": [
        "## Section 3: NumPy & pandas"
      ],
      "metadata": {
        "id": "mVV1BgZvEE3a"
      }
    },
    {
      "cell_type": "markdown",
      "source": [
        "### **Task 4**: NumPy Matrix Magic\n",
        "\n",
        "*Instruction*: Create a 5x5 matrix with random integers from 1 to 10. Replace all elements greater than 5 with 0."
      ],
      "metadata": {
        "id": "opUK7Z7LEIr4"
      }
    },
    {
      "cell_type": "code",
      "source": [
        "import numpy as np\n",
        "\n",
        "# Step 1: Create 5x5 matrix with random integers from 1 to 10\n",
        "matrix = np.random.randint(1, 11, size=(5, 5))\n",
        "print(\"Original Matrix:\\n\", matrix)\n",
        "\n",
        "# Step 2: Replace elements > 5 with 0\n",
        "matrix[matrix > 5] = 0\n",
        "print(\"\\nTransformed Matrix:\\n\", matrix)\n"
      ],
      "metadata": {
        "id": "UW3FMdjQEEl3",
        "colab": {
          "base_uri": "https://localhost:8080/"
        },
        "outputId": "0fdd124d-a8ae-464d-f48f-5501eacd8d09"
      },
      "execution_count": 17,
      "outputs": [
        {
          "output_type": "stream",
          "name": "stdout",
          "text": [
            "Original Matrix:\n",
            " [[ 5  1  8  6  7]\n",
            " [ 8  2  6  3  7]\n",
            " [ 2  7  1  6  9]\n",
            " [ 7  3  7  7  5]\n",
            " [10  3  4  5  4]]\n",
            "\n",
            "Transformed Matrix:\n",
            " [[5 1 0 0 0]\n",
            " [0 2 0 3 0]\n",
            " [2 0 1 0 0]\n",
            " [0 3 0 0 5]\n",
            " [0 3 4 5 4]]\n"
          ]
        }
      ]
    },
    {
      "cell_type": "markdown",
      "source": [
        "### **Task 5**: pandas DataFrame Manipulation\n",
        "\n",
        "*Instruction*: Given the following dictionary, convert it into a DataFrame, calculate the average score per student, and add it as a new column."
      ],
      "metadata": {
        "id": "YuFv3sE6ET9d"
      }
    },
    {
      "cell_type": "code",
      "source": [
        "import pandas as pd\n",
        "\n",
        "# Given data\n",
        "data = {\n",
        "    'Name': ['Alice', 'Bob', 'Charlie'],\n",
        "    'Math': [85, 78, 92],\n",
        "    'Science': [90, 88, 84],\n",
        "    'English': [87, 85, 80]\n",
        "}\n",
        "\n",
        "# Step 1: Convert to DataFrame\n",
        "df = pd.DataFrame(data)\n",
        "\n",
        "# Step 2: Calculate average score\n",
        "df['Average'] = df[['Math', 'Science', 'English']].mean(axis=1)\n",
        "\n",
        "# Step 3: Display the DataFrame\n",
        "print(df)\n",
        "\n"
      ],
      "metadata": {
        "id": "horbXH8iETuH",
        "colab": {
          "base_uri": "https://localhost:8080/"
        },
        "outputId": "7ad451f6-ec82-47b3-a664-de977d71e44d"
      },
      "execution_count": 18,
      "outputs": [
        {
          "output_type": "stream",
          "name": "stdout",
          "text": [
            "      Name  Math  Science  English    Average\n",
            "0    Alice    85       90       87  87.333333\n",
            "1      Bob    78       88       85  83.666667\n",
            "2  Charlie    92       84       80  85.333333\n"
          ]
        }
      ]
    },
    {
      "cell_type": "markdown",
      "source": [
        "## Section 4: Visualization & Logic"
      ],
      "metadata": {
        "id": "GNO0DPi3EpgF"
      }
    },
    {
      "cell_type": "markdown",
      "source": [
        "### **Task 6**: Simple Data Visualization\n",
        "\n",
        "*Instruction*: Use matplotlib to create a bar chart showing the average score per subject from the DataFrame in the previous task."
      ],
      "metadata": {
        "id": "W74DNGaJEtdj"
      }
    },
    {
      "cell_type": "code",
      "source": [
        "import matplotlib.pyplot as plt\n",
        "\n",
        "import pandas as pd\n",
        "import matplotlib.pyplot as plt\n",
        "\n",
        "# Given data\n",
        "data = {\n",
        "    'Name': ['Alice', 'Bob', 'Charlie'],\n",
        "    'Math': [85, 78, 92],\n",
        "    'Science': [90, 88, 84],\n",
        "    'English': [87, 85, 80]\n",
        "}\n",
        "\n",
        "# Step 1: Convert to DataFrame\n",
        "df = pd.DataFrame(data)\n",
        "\n",
        "# Step 2: Calculate average score per subject\n",
        "subject_averages = df[['Math', 'Science', 'English']].mean()\n",
        "\n",
        "# Step 3: Plot the bar chart\n",
        "plt.figure(figsize=(8, 5))\n",
        "plt.bar(subject_averages.index, subject_averages.values, color='skyblue')\n",
        "plt.title('Average Score per Subject')\n",
        "plt.xlabel('Subject')\n",
        "plt.ylabel('Average Score')\n",
        "plt.ylim(0, 100)\n",
        "plt.grid(axis='y', linestyle='--', alpha=0.7)\n",
        "plt.show()\n",
        "\n"
      ],
      "metadata": {
        "id": "aM8iWEAXEOmE",
        "colab": {
          "base_uri": "https://localhost:8080/",
          "height": 487
        },
        "outputId": "c8d283ad-827e-4f4d-e7a2-1423425a8825"
      },
      "execution_count": 19,
      "outputs": [
        {
          "output_type": "display_data",
          "data": {
            "text/plain": [
              "<Figure size 800x500 with 1 Axes>"
            ],
            "image/png": "[encoded data removed]"
          },
          "metadata": {}
        }
      ]
    },
    {
      "cell_type": "markdown",
      "source": [
        "## Section 5: Mini-Project Challenge"
      ],
      "metadata": {
        "id": "yFxPFagsE9mS"
      }
    },
    {
      "cell_type": "markdown",
      "source": [
        "### **Task 7**: Build a Mini Calculator with Exception Handling\n",
        "\n",
        "*Instruction*: Write a function that takes two numbers and an operator as input (+, -, *, /). Return the result, and handle divide-by-zero and invalid operator cases with appropriate error messages."
      ],
      "metadata": {
        "id": "IZwIOzHXFD1a"
      }
    },
    {
      "cell_type": "code",
      "source": [
        "def mini_calculator(num1, num2, operator):\n",
        "    \"\"\"\n",
        "    Performs basic arithmetic operations on two numbers.\n",
        "\n",
        "    Args:\n",
        "        num1: The first number.\n",
        "        num2: The second number.\n",
        "        operator: The arithmetic operator (+, -, *, /).\n",
        "\n",
        "    Returns:\n",
        "        The result of the operation, or an error message.\n",
        "    \"\"\"\n",
        "    try:\n",
        "        if operator == '+':\n",
        "            return num1 + num2\n",
        "        elif operator == '-':\n",
        "            return num1 - num2\n",
        "        elif operator == '*':\n",
        "            return num1 * num2\n",
        "        elif operator == '/':\n",
        "            if num2 == 0:\n",
        "                return \"Error: Cannot divide by zero.\"\n",
        "            else:\n",
        "                return num1 / num2\n",
        "        else:\n",
        "            return \"Error: Invalid operator. Please use +, -, *, or /.\"\n",
        "    except TypeError:\n",
        "        return \"Error: Invalid input. Please provide numbers.\"\n",
        "\n",
        "# Example usage\n",
        "print(mini_calculator(5, 3, '+'))\n",
        "print(mini_calculator(10, 2, '-'))\n",
        "print(mini_calculator(4, 6, '*'))\n",
        "print(mini_calculator(8, 0, '/'))\n",
        "print(mini_calculator(7, 2, '%'))\n",
        "print(mini_calculator('a', 5, '+'))"
      ],
      "metadata": {
        "id": "VpUFTR1JFDWk",
        "colab": {
          "base_uri": "https://localhost:8080/"
        },
        "outputId": "ea5dfd44-a10e-4a53-f239-2723f67cf4b2"
      },
      "execution_count": 22,
      "outputs": [
        {
          "output_type": "stream",
          "name": "stdout",
          "text": [
            "8\n",
            "8\n",
            "24\n",
            "Error: Cannot divide by zero.\n",
            "Error: Invalid operator. Please use +, -, *, or /.\n",
            "Error: Invalid input. Please provide numbers.\n"
          ]
        }
      ]
    }
  ]
}